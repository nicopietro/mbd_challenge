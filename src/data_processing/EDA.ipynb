{
 "cells": [
  {
   "cell_type": "markdown",
   "metadata": {},
   "source": [
    "## Exploratory Data Analysis\n",
    "### On Animals data downloaded from Data Service API\n",
    "#### Possible animals considered: Kangaroo, Elephant, Chicken, and Dog\n"
   ]
  },
  {
   "cell_type": "code",
   "execution_count": null,
   "metadata": {},
   "outputs": [],
   "source": [
    "# Import packages\n",
    "from datetime import datetime\n",
    "import pandas as pd\n",
    "import seaborn as sns\n",
    "import matplotlib.pyplot as plt\n",
    "# from sklearn.cluster import KMeans\n",
    "from sklearn.model_selection import train_test_split\n",
    "from sklearn.model_selection import GridSearchCV\n",
    "from sklearn.tree import DecisionTreeClassifier, plot_tree\n",
    "from sklearn.metrics import confusion_matrix, ConfusionMatrixDisplay, accuracy_score, precision_score, recall_score, f1_score\n",
    "\n",
    "\n",
    "from src.api_call import fetch_animals, fetch_schema\n",
    "from src.minio_connection import minio_save_model"
   ]
  },
  {
   "cell_type": "code",
   "execution_count": null,
   "metadata": {},
   "outputs": [],
   "source": [
    "# Load data\n",
    "df = pd.DataFrame(fetch_animals(1000)[0])\n",
    "df"
   ]
  },
  {
   "cell_type": "code",
   "execution_count": null,
   "metadata": {},
   "outputs": [],
   "source": [
    "# Group and aggregate: mean height, mean weight, and count (frequency)\n",
    "agg_table = (\n",
    "    df.groupby(['has_tail', 'has_wings', 'walks_on_n_legs'])\n",
    "      .agg(\n",
    "          avg_height=('height', 'mean'),\n",
    "          avg_weight=('weight', 'mean'),\n",
    "          frequency=('height', 'count')\n",
    "      )\n",
    "      .reset_index()\n",
    ")\n",
    "\n",
    "print(agg_table)\n",
    "\n",
    "df.describe()"
   ]
  },
  {
   "cell_type": "code",
   "execution_count": null,
   "metadata": {},
   "outputs": [],
   "source": [
    "# Filter out impossible data combinations:\n",
    "# 1. Animals can only walk with 2 or 4 legs\n",
    "df = df[df['walks_on_n_legs'].isin([2, 4])]\n",
    "\n",
    "# 2. Animals with wings can only walk in 2 legs\n",
    "df = df[~(df['walks_on_n_legs'] == 4) | (df['has_wings'] == False)]\n",
    "\n",
    "# 3. All animals in the dataset have a tail\n",
    "df = df[df['has_tail'] == True]"
   ]
  },
  {
   "cell_type": "code",
   "execution_count": null,
   "metadata": {},
   "outputs": [],
   "source": [
    "# Group and aggregate: mean height, mean weight, and count (frequency)\n",
    "agg_table = (\n",
    "    df.groupby(['has_tail', 'has_wings', 'walks_on_n_legs'])\n",
    "      .agg(\n",
    "          avg_height=('height', 'mean'),\n",
    "          avg_weight=('weight', 'mean'),\n",
    "          frequency=('height', 'count')\n",
    "      )\n",
    "      .reset_index()\n",
    ")\n",
    "\n",
    "print(agg_table)"
   ]
  },
  {
   "cell_type": "code",
   "execution_count": null,
   "metadata": {},
   "outputs": [],
   "source": [
    "# Based in this analysis it can be inferred the class for all animals which walk on 2 legs:\n",
    "\n",
    "df['animal_type'] = None\n",
    "\n",
    "# Set to 'chicken' if walks on 2 legs and has wings\n",
    "df.loc[(df['walks_on_n_legs'] == 2) & (df['has_wings'] == True), 'animal_type'] = 'chicken'\n",
    "\n",
    "# Set to 'kangaroo' if walks on 2 legs and no wings\n",
    "df.loc[(df['walks_on_n_legs'] == 2) & (df['has_wings'] == False), 'animal_type'] = 'kangaroo'\n"
   ]
  },
  {
   "cell_type": "code",
   "execution_count": null,
   "metadata": {},
   "outputs": [],
   "source": [
    "df_4legs = df[(df['walks_on_n_legs'] == 4)].drop(columns=['animal_type'])"
   ]
  },
  {
   "cell_type": "code",
   "execution_count": null,
   "metadata": {},
   "outputs": [],
   "source": [
    "plt.scatter(df_4legs['height'],df_4legs['weight'])  \n",
    "plt.xlabel('Height')\n",
    "plt.ylabel('Weight')\n",
    "plt.title('Height vs Weight')\n",
    "plt.show()"
   ]
  },
  {
   "cell_type": "code",
   "execution_count": null,
   "metadata": {},
   "outputs": [],
   "source": [
    "# TODO: Create clusteing model to classify Dogs vs Elephants\n",
    "\n",
    "# Set to 'elephant' if heavy\n",
    "df.loc[(df['weight'] >= 1500) & (df['animal_type'].isnull()), 'animal_type'] = 'elephant'\n",
    "\n",
    "# Set to 'dog' if light\n",
    "df.loc[(df['weight'] < 1500) & (df['animal_type'].isnull()), 'animal_type'] = 'dog'"
   ]
  },
  {
   "cell_type": "code",
   "execution_count": null,
   "metadata": {},
   "outputs": [],
   "source": [
    "# Plotting weight and height for each animal type\n",
    "plt.figure(figsize=(14, 6))\n",
    "\n",
    "# Boxplot for Height\n",
    "plt.subplot(1, 2, 1)\n",
    "sns.boxplot(x='animal_type', y='height', data=df)\n",
    "plt.title('Height by Animal Type')\n",
    "plt.xlabel('Animal Type')\n",
    "plt.ylabel('Height')\n",
    "\n",
    "# Boxplot for Weight\n",
    "plt.subplot(1, 2, 2)\n",
    "sns.boxplot(x='animal_type', y='weight', data=df)\n",
    "plt.title('Weight by Animal Type')\n",
    "plt.xlabel('Animal Type')\n",
    "plt.ylabel('Weight')\n",
    "\n",
    "plt.tight_layout()\n",
    "plt.show()\n"
   ]
  },
  {
   "cell_type": "code",
   "execution_count": null,
   "metadata": {},
   "outputs": [],
   "source": [
    "def remove_outliers_iqr(df):\n",
    "    \n",
    "    df_filtered = pd.DataFrame()\n",
    "    cols_to_filter=['height', 'weight']\n",
    "\n",
    "    for name, group in df.groupby('animal_type'):\n",
    "        group_filtered = group.copy()\n",
    "        for col in cols_to_filter:\n",
    "            Q1 = group[col].quantile(0.25)\n",
    "            Q3 = group[col].quantile(0.75)\n",
    "            IQR = Q3 - Q1\n",
    "            lower = Q1 - 1.5 * IQR\n",
    "            upper = Q3 + 1.5 * IQR\n",
    "            group_filtered = group_filtered[(group_filtered[col] >= lower) & (group_filtered[col] <= upper)]\n",
    "        df_filtered = pd.concat([df_filtered, group_filtered], ignore_index=True)\n",
    "    \n",
    "    return df_filtered\n",
    "\n",
    "df_cleaned = remove_outliers_iqr(df, )"
   ]
  },
  {
   "cell_type": "code",
   "execution_count": null,
   "metadata": {},
   "outputs": [],
   "source": [
    "# Plotting weight and height for each animal type\n",
    "plt.figure(figsize=(14, 6))\n",
    "\n",
    "# Boxplot for Height\n",
    "plt.subplot(1, 2, 1)\n",
    "sns.boxplot(x='animal_type', y='height', data=df_cleaned)\n",
    "plt.title('Height by Animal Type')\n",
    "plt.xlabel('Animal Type')\n",
    "plt.ylabel('Height')\n",
    "\n",
    "# Boxplot for Weight\n",
    "plt.subplot(1, 2, 2)\n",
    "sns.boxplot(x='animal_type', y='weight', data=df_cleaned)\n",
    "plt.title('Weight by Animal Type')\n",
    "plt.xlabel('Animal Type')\n",
    "plt.ylabel('Weight')\n",
    "\n",
    "plt.tight_layout()\n",
    "plt.show()"
   ]
  },
  {
   "cell_type": "code",
   "execution_count": null,
   "metadata": {},
   "outputs": [],
   "source": [
    "# Split data for training and testing\n",
    "X = df_cleaned[['height', 'weight', 'walks_on_n_legs', 'has_wings', 'has_tail']]\n",
    "y = df_cleaned['animal_type']\n",
    "\n",
    "X_train, X_test, y_train, y_test = train_test_split(X, y, test_size=0.2, random_state=42, stratify=y)\n",
    "\n",
    "# Create a grid serch to optimize a Desicion Tree Classifier\n",
    "param_grid = {\n",
    "    'max_depth': [None, 3, 5, 10],\n",
    "    'min_samples_split': [2, 5, 10],\n",
    "    'criterion': ['gini', 'entropy']\n",
    "}\n",
    "\n",
    "grid_search = GridSearchCV(\n",
    "    estimator=DecisionTreeClassifier(random_state=42),\n",
    "    param_grid=param_grid,\n",
    "    scoring='f1_macro',\n",
    "    cv=5,\n",
    "    n_jobs=-1\n",
    ")\n",
    "\n",
    "grid_search.fit(X_train, y_train)\n",
    "model = grid_search.best_estimator_\n",
    "\n",
    "y_predict = model.predict(X_test)\n",
    "\n",
    "# Check several performance metrics\n",
    "acc = accuracy_score(y_test, y_predict)\n",
    "precision = precision_score(y_test, y_predict, average='macro')\n",
    "recall = recall_score(y_test, y_predict, average='macro')\n",
    "f1 = f1_score(y_test, y_predict, average='macro')\n",
    "\n",
    "metrics = {\n",
    "    \"accuracy\": round(acc, 4),\n",
    "    \"precision\": round(precision, 4),\n",
    "    \"recall\": round(recall, 4),\n",
    "    \"f1_score\": round(f1, 4)\n",
    "}\n",
    "\n",
    "print(metrics)\n"
   ]
  },
  {
   "cell_type": "code",
   "execution_count": null,
   "metadata": {},
   "outputs": [],
   "source": [
    "# Save model to minio\n",
    "minio_save_model(model=model, metrics=metrics)"
   ]
  },
  {
   "cell_type": "code",
   "execution_count": null,
   "metadata": {},
   "outputs": [],
   "source": [
    "# Print confuxion matrix\n",
    "cm = confusion_matrix(y_test, y_predict)\n",
    "disp = ConfusionMatrixDisplay(confusion_matrix=cm, display_labels=model.classes_)\n",
    "disp.plot()\n",
    "\n",
    "# Plot the tree\n",
    "plt.figure(figsize=(16, 8))\n",
    "plot_tree(model, \n",
    "          feature_names=X.columns, \n",
    "          class_names=model.classes_, \n",
    "          filled=True, \n",
    "          rounded=True, \n",
    "          fontsize=10)\n",
    "plt.title(\"Decision Tree Visualization\")\n",
    "plt.show()"
   ]
  }
 ],
 "metadata": {
  "kernelspec": {
   "display_name": ".venv",
   "language": "python",
   "name": "python3"
  },
  "language_info": {
   "codemirror_mode": {
    "name": "ipython",
    "version": 3
   },
   "file_extension": ".py",
   "mimetype": "text/x-python",
   "name": "python",
   "nbconvert_exporter": "python",
   "pygments_lexer": "ipython3",
   "version": "3.12.2"
  }
 },
 "nbformat": 4,
 "nbformat_minor": 2
}
